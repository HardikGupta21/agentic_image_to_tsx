{
 "cells": [
  {
   "cell_type": "markdown",
   "id": "eb3a3316",
   "metadata": {},
   "source": [
    "## Files API"
   ]
  },
  {
   "cell_type": "code",
   "execution_count": 27,
   "id": "f542b021",
   "metadata": {},
   "outputs": [],
   "source": [
    "import os"
   ]
  },
  {
   "cell_type": "code",
   "execution_count": 28,
   "id": "3af89436",
   "metadata": {},
   "outputs": [
    {
     "data": {
      "text/plain": [
       "['.git',\n",
       " '.ipynb_checkpoints',\n",
       " 'data.json',\n",
       " 'Excalidraw',\n",
       " 'Function Calling.ipynb',\n",
       " 'newsletter-data.json',\n",
       " 'Readme.md',\n",
       " 'resume-sample.pdf',\n",
       " 'sample-Car Comparison.ipynb',\n",
       " 'Structured Outputs.ipynb',\n",
       " 'Trial.ipynb']"
      ]
     },
     "execution_count": 28,
     "metadata": {},
     "output_type": "execute_result"
    }
   ],
   "source": [
    "os.listdir()"
   ]
  },
  {
   "cell_type": "markdown",
   "id": "fe7418d1",
   "metadata": {},
   "source": [
    "### Loading the Files into Gemini"
   ]
  },
  {
   "cell_type": "code",
   "execution_count": null,
   "id": "e271bb80",
   "metadata": {},
   "outputs": [],
   "source": [
    "myfile = client.files.upload(file='resume-sample.pdf')"
   ]
  },
  {
   "cell_type": "markdown",
   "id": "144ba34b",
   "metadata": {},
   "source": [
    "#### Getting the Files detail (File Object)"
   ]
  },
  {
   "cell_type": "code",
   "execution_count": 29,
   "id": "bd1670b0",
   "metadata": {},
   "outputs": [
    {
     "name": "stdout",
     "output_type": "stream",
     "text": [
      "name='files/pjr73w9msa3e' display_name=None mime_type='application/pdf' size_bytes=301808 create_time=datetime.datetime(2025, 7, 28, 19, 23, 13, 184661, tzinfo=TzInfo(UTC)) expiration_time=datetime.datetime(2025, 7, 30, 19, 23, 13, 129843, tzinfo=TzInfo(UTC)) update_time=datetime.datetime(2025, 7, 28, 19, 23, 13, 184661, tzinfo=TzInfo(UTC)) sha256_hash='ZmQ2YjkxZWYxNmNmYmNmZTBiMjkwM2ZhNmQzYTBiYWQ1NzlmZTNkZjQ2MmFlMjg5ZmVhYjRiOGFmMmRjM2ZlNQ==' uri='https://generativelanguage.googleapis.com/v1beta/files/pjr73w9msa3e' download_uri=None state=<FileState.ACTIVE: 'ACTIVE'> source=<FileSource.UPLOADED: 'UPLOADED'> video_metadata=None error=None\n"
     ]
    }
   ],
   "source": [
    "file_name = myfile.name\n",
    "myfile = client.files.get(name=file_name)\n",
    "print(myfile)"
   ]
  },
  {
   "cell_type": "markdown",
   "id": "3cbf4cc7",
   "metadata": {},
   "source": [
    "### Uploading Multiple Files"
   ]
  },
  {
   "cell_type": "code",
   "execution_count": 38,
   "id": "c4650855",
   "metadata": {},
   "outputs": [],
   "source": [
    "sid = client.files.upload(file='sidharth.pdf')\n",
    "ak = client.files.upload(file='akshat-jain.pdf')\n",
    "# file_name = myfile.name\n",
    "myfile = client.files.get(name=file_name)\n",
    "# print(myfile)"
   ]
  },
  {
   "cell_type": "markdown",
   "id": "c73100b1",
   "metadata": {},
   "source": [
    "###  Make the request"
   ]
  },
  {
   "cell_type": "code",
   "execution_count": 42,
   "id": "dd2fb568",
   "metadata": {},
   "outputs": [],
   "source": [
    "response = client.models.generate_content(\n",
    "    model=\"gemini-2.5-flash\",\n",
    "    contents= [\"Tell me what are the keywords which are missing in the akshat resume that are highlighted for Agentic Architect Position in sid resume, make it focused as a comparison\", sid, ak],   #\"What is the education of the person in the given resume\", myfile],\n",
    "    config=config,\n",
    ")"
   ]
  },
  {
   "cell_type": "code",
   "execution_count": 44,
   "id": "db57a921",
   "metadata": {},
   "outputs": [
    {
     "name": "stdout",
     "output_type": "stream",
     "text": [
      "To identify the keywords missing from Akshat's resume that are highlighted in Siddharth's for an \"Agentic Architect Position,\" we need to focus on aspects related to designing, building, deploying, and optimizing autonomous AI systems and their underlying infrastructure and workflows.\n",
      "\n",
      "Based on a comparison of the two resumes, here are the key areas and specific keywords missing or less emphasized in Akshat's resume, which are prominently featured in Siddharth's:\n",
      "\n",
      "1.  **Multi-Agent Workflow Orchestration (Explicit Focus):**\n",
      "    *   Siddharth explicitly highlights \"Multi-Agent AI workflow orchestration using Langchain, Flowise, n8n\" in his skills. While Akshat mentions \"LangChain\" and an \"AI Agent\" project, the explicit emphasis on *multi-agent* systems and specific orchestration tools like \"n8n\" is stronger in Siddharth's profile.\n",
      "\n",
      "2.  **DevOps & Automated Scaling for AI Services:**\n",
      "    *   Siddharth's experience includes \"Partnered with DevOps to automate scaling for healthcare/finance clients\" and \"Containerized AI services with Docker/K8s; built Flask/FastAPI ETL pipelines (40% latency reduction)\". While Akshat lists Docker and AWS Sagemaker under skills, he lacks the detailed experience in automating scaling of AI services, explicit DevOps collaboration for scaling, or performance-focused \"ETL pipelines\" for AI services with specific latency reductions.\n",
      "\n",
      "3.  **AI Service Performance Monitoring & Cost Optimization:**\n",
      "    *   Siddharth's resume details \"Engineered dynamic token allocation for GPT-4 endpoints (40% cost reduction), monitored via LangSmith (99.9% SLA adherence)\" and \"Token monitoring, token usage cost optimisation and workflow response time management using Langsmith\". Akshat mentions \"tokenisation\" but lacks the specific experience with monitoring tools like \"LangSmith\" and the explicit focus on cost and response time optimization for live AI systems.\n",
      "\n",
      "4.  **Architectural Design and Deployment of AI Systems:**\n",
      "    *   Siddharth's experience descriptions, such as \"Designed PoC for AI-driven Revenue Cycle Management (RCM); deployed LangChain/Flowise workflows\" and \"Built RAG pipeline with chain-of-thought reasoning\", indicate a more pronounced role in the architectural design and deployment of complete AI systems. Akshat's experience focuses more on \"Prompt Engineering\" and working with \"multi-stage pipelines\" and \"tool-use,\" which are components within an AI system, but less on the overarching system architecture.\n",
      "\n",
      "5.  **Specific Technologies for Real-time Interaction:**\n",
      "    *   Siddharth lists \"Websockets\" under his tools, which are often crucial for real-time interaction in agentic systems. This is not explicitly present in Akshat's resume.\n",
      "\n",
      "In summary, for an \"Agentic Architect\" role, Akshat's resume could benefit from incorporating more explicit keywords and experiences related to **multi-agent system orchestration**, **DevOps collaboration for AI scaling and automation**, **performance monitoring and cost optimization of AI services (e.g., using tools like LangSmith)**, and a stronger emphasis on the **architectural design and end-to-end deployment of robust AI-driven solutions**.\n"
     ]
    }
   ],
   "source": [
    "print(response.text)"
   ]
  },
  {
   "cell_type": "code",
   "execution_count": null,
   "id": "eb142709",
   "metadata": {},
   "outputs": [],
   "source": []
  }
 ],
 "metadata": {
  "kernelspec": {
   "display_name": "Python 3 (ipykernel)",
   "language": "python",
   "name": "python3"
  },
  "language_info": {
   "codemirror_mode": {
    "name": "ipython",
    "version": 3
   },
   "file_extension": ".py",
   "mimetype": "text/x-python",
   "name": "python",
   "nbconvert_exporter": "python",
   "pygments_lexer": "ipython3",
   "version": "3.10.0"
  }
 },
 "nbformat": 4,
 "nbformat_minor": 5
}
