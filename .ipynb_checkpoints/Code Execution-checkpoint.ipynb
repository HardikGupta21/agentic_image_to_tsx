{
 "cells": [
  {
   "cell_type": "markdown",
   "id": "a383d200",
   "metadata": {},
   "source": [
    "### Code Execution"
   ]
  },
  {
   "cell_type": "code",
   "execution_count": null,
   "id": "d7f00a87",
   "metadata": {},
   "outputs": [],
   "source": [
    "from google import genai\n",
    "from google.genai import types"
   ]
  },
  {
   "cell_type": "code",
   "execution_count": null,
   "id": "fb5b27c7",
   "metadata": {},
   "outputs": [],
   "source": [
    "client = genai.Client()"
   ]
  },
  {
   "cell_type": "markdown",
   "id": "b202c980",
   "metadata": {},
   "source": [
    "### Setting Code Execution in Tools"
   ]
  },
  {
   "cell_type": "code",
   "execution_count": null,
   "id": "47e427b8",
   "metadata": {},
   "outputs": [],
   "source": [
    "response = client.models.generate_content(\n",
    "    model=\"gemini-2.5-flash\",\n",
    "    contents=\"What is the sum of the first 50 prime numbers? \"\n",
    "    \"Generate and run code for the calculation, and make sure you get all 50.\",\n",
    "    config=types.GenerateContentConfig(\n",
    "        tools=[types.Tool(code_execution=types.ToolCodeExecution)]\n",
    "    ),\n",
    ")"
   ]
  },
  {
   "cell_type": "markdown",
   "id": "515b7690",
   "metadata": {},
   "source": [
    "Here it is breaking down the following processes:\n",
    " - Thinking / Planning\n",
    " - Code Generation\n",
    " - Code Execution"
   ]
  },
  {
   "cell_type": "code",
   "execution_count": 46,
   "id": "8145c251",
   "metadata": {},
   "outputs": [
    {
     "name": "stdout",
     "output_type": "stream",
     "text": [
      "First Part To find the sum of the first 50 prime numbers, I will first generate the prime numbers one by one until I have 50 of them, and then I will sum them up.\n",
      "\n",
      "Here's the plan:\n",
      "1.  Define a function `is_prime(n)` that checks if a number `n` is prime.\n",
      "2.  Initialize an empty list `primes` to store the prime numbers found.\n",
      "3.  Start checking numbers from 2 upwards.\n",
      "4.  If a number is prime, add it to the `primes` list.\n",
      "5.  Continue until the `primes` list contains 50 numbers.\n",
      "6.  Calculate the sum of all numbers in the `primes` list.\n",
      "\n",
      "\n",
      "Second Part import math\n",
      "\n",
      "def is_prime(n):\n",
      "    if n < 2:\n",
      "        return False\n",
      "    for i in range(2, int(math.sqrt(n)) + 1):\n",
      "        if n % i == 0:\n",
      "            return False\n",
      "    return True\n",
      "\n",
      "primes = []\n",
      "num = 2\n",
      "while len(primes) < 50:\n",
      "    if is_prime(num):\n",
      "        primes.append(num)\n",
      "    num += 1\n",
      "\n",
      "sum_of_primes = sum(primes)\n",
      "\n",
      "print(f\"The first 50 prime numbers are: {primes}\")\n",
      "print(f\"The count of primes found is: {len(primes)}\")\n",
      "print(f\"The sum of the first 50 prime numbers is: {sum_of_primes}\")\n",
      "\n",
      "Third Part The first 50 prime numbers are: [2, 3, 5, 7, 11, 13, 17, 19, 23, 29, 31, 37, 41, 43, 47, 53, 59, 61, 67, 71, 73, 79, 83, 89, 97, 101, 103, 107, 109, 113, 127, 131, 137, 139, 149, 151, 157, 163, 167, 173, 179, 181, 191, 193, 197, 199, 211, 223, 227, 229]\n",
      "The count of primes found is: 50\n",
      "The sum of the first 50 prime numbers is: 5117\n",
      "\n",
      "First Part The first 50 prime numbers are:\n",
      "2, 3, 5, 7, 11, 13, 17, 19, 23, 29, 31, 37, 41, 43, 47, 53, 59, 61, 67, 71, 73, 79, 83, 89, 97, 101, 103, 107, 109, 113, 127, 131, 137, 139, 149, 151, 157, 163, 167, 173, 179, 181, 191, 193, 197, 199, 211, 223, 227, 229.\n",
      "\n",
      "The sum of these 50 prime numbers is 5117.\n"
     ]
    }
   ],
   "source": [
    "for part in response.candidates[0].content.parts:\n",
    "    if part.text is not None:\n",
    "        print(\"First Part\", part.text)\n",
    "    if part.executable_code is not None:\n",
    "        print(\"Second Part\", part.executable_code.code)\n",
    "    if part.code_execution_result is not None:\n",
    "        print(\"Third Part\", part.code_execution_result.output)"
   ]
  },
  {
   "cell_type": "markdown",
   "id": "573898a6",
   "metadata": {},
   "source": [
    "### 2nd Approach\n",
    "- Passing the Generated Code to Execution"
   ]
  },
  {
   "cell_type": "markdown",
   "id": "cf8521e2",
   "metadata": {},
   "source": [
    "### Defined Code "
   ]
  },
  {
   "cell_type": "code",
   "execution_count": 47,
   "id": "5b639ec8",
   "metadata": {},
   "outputs": [],
   "source": [
    "code = \"\"\"\n",
    "import math\n",
    "\n",
    "def is_prime(n):\n",
    "    if n < 2:\n",
    "        return False\n",
    "    for i in range(2, int(math.sqrt(n)) + 1):\n",
    "        if n % i == 0:\n",
    "            return False\n",
    "    return True\n",
    "\n",
    "primes = []\n",
    "num = 2\n",
    "while len(primes) < 50:\n",
    "    if is_prime(num):\n",
    "        primes.append(num)\n",
    "    num += 1\n",
    "\n",
    "sum_of_primes = sum(primes)\n",
    "\"\"\""
   ]
  },
  {
   "cell_type": "markdown",
   "id": "0051a3c3",
   "metadata": {},
   "source": [
    "### Executing the Created Code"
   ]
  },
  {
   "cell_type": "code",
   "execution_count": 48,
   "id": "537433b5",
   "metadata": {},
   "outputs": [
    {
     "name": "stdout",
     "output_type": "stream",
     "text": [
      "Second Part import math\n",
      "\n",
      "def is_prime(n):\n",
      "    if n < 2:\n",
      "        return False\n",
      "    for i in range(2, int(math.sqrt(n)) + 1):\n",
      "        if n % i == 0:\n",
      "            return False\n",
      "    return True\n",
      "\n",
      "primes = []\n",
      "num = 2\n",
      "while len(primes) < 50:\n",
      "    if is_prime(num):\n",
      "        primes.append(num)\n",
      "    num += 1\n",
      "\n",
      "sum_of_primes = sum(primes)\n",
      "print(f'{sum_of_primes=}')\n",
      "Third Part sum_of_primes=5117\n",
      "\n",
      "First Part The code was executed to find the sum of the first 50 prime numbers.\n",
      "The sum of these prime numbers is 5117.\n"
     ]
    }
   ],
   "source": [
    "response = client.models.generate_content(\n",
    "    model=\"gemini-2.5-flash\",\n",
    "    contents=f\"execute this code:  {code}\",\n",
    "    config=types.GenerateContentConfig(\n",
    "        tools=[types.Tool(code_execution=types.ToolCodeExecution)]\n",
    "    ),\n",
    ")\n",
    "\n",
    "for part in response.candidates[0].content.parts:\n",
    "    if part.text is not None:\n",
    "        print(\"First Part\", part.text)\n",
    "    if part.executable_code is not None:\n",
    "        print(\"Second Part\", part.executable_code.code)\n",
    "    if part.code_execution_result is not None:\n",
    "        print(\"Third Part\", part.code_execution_result.output)"
   ]
  },
  {
   "cell_type": "code",
   "execution_count": null,
   "id": "c1b9bd5d",
   "metadata": {},
   "outputs": [],
   "source": []
  },
  {
   "cell_type": "code",
   "execution_count": null,
   "id": "dfbd820b",
   "metadata": {},
   "outputs": [],
   "source": []
  }
 ],
 "metadata": {
  "kernelspec": {
   "display_name": "Python 3 (ipykernel)",
   "language": "python",
   "name": "python3"
  },
  "language_info": {
   "codemirror_mode": {
    "name": "ipython",
    "version": 3
   },
   "file_extension": ".py",
   "mimetype": "text/x-python",
   "name": "python",
   "nbconvert_exporter": "python",
   "pygments_lexer": "ipython3",
   "version": "3.10.0"
  }
 },
 "nbformat": 4,
 "nbformat_minor": 5
}
